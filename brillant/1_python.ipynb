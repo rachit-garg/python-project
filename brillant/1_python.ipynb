{
 "cells": [
  {
   "cell_type": "markdown",
   "metadata": {},
   "source": [
    "## Sequences:\n",
    "\n",
    "* Container and Flat sequences\n",
    "* Mutability"
   ]
  },
  {
   "cell_type": "markdown",
   "metadata": {},
   "source": [
    "## List Comprehensions and Generator Expression"
   ]
  },
  {
   "cell_type": "code",
   "execution_count": 3,
   "metadata": {},
   "outputs": [
    {
     "name": "stdout",
     "output_type": "stream",
     "text": [
      "[35, 36, 37, 64, 42, 38]\n"
     ]
    }
   ],
   "source": [
    "symbols = '#$%@*&'\n",
    "codes = []\n",
    "\n",
    "for symbol in symbols:\n",
    "    codes.append(ord(symbol))\n",
    "\n",
    "print(codes)"
   ]
  },
  {
   "cell_type": "code",
   "execution_count": 14,
   "metadata": {},
   "outputs": [
    {
     "name": "stdout",
     "output_type": "stream",
     "text": [
      "Using List comprehension:  [35, 36, 37, 64, 42, 38]\n",
      "Using Generator expression:  (35, 36, 37, 64, 42, 38)\n"
     ]
    }
   ],
   "source": [
    "symbols = '#$%@*&'\n",
    "codes = [ord(symbol) for symbol in symbols]\n",
    "print(\"Using List comprehension: \", codes)\n",
    "\n",
    "codes = tuple(ord(symbol) for symbol in symbols)\n",
    "print(\"Using Generator expression: \", codes)"
   ]
  },
  {
   "cell_type": "markdown",
   "metadata": {},
   "source": [
    "## Tuples\n",
    " \n",
    " * Immutable lists\n",
    " * As records with no field name\n",
    "\n",
    "The python interpreter and standard library make extensive use of tuples as immutable lists.\n",
    "\n",
    "This brings to two key benifits:\n",
    "\n",
    " * Clarity: Given the tuple we know it size will not change.\n",
    " * Performance: It uses less memory than a list of same length. And it allows python to do some optimizations.\n",
    "\n",
    "\n",
    " Tuples with mutable item can be a source of bugs."
   ]
  },
  {
   "cell_type": "code",
   "execution_count": null,
   "metadata": {},
   "outputs": [],
   "source": []
  }
 ],
 "metadata": {
  "kernelspec": {
   "display_name": ".venv",
   "language": "python",
   "name": "python3"
  },
  "language_info": {
   "codemirror_mode": {
    "name": "ipython",
    "version": 3
   },
   "file_extension": ".py",
   "mimetype": "text/x-python",
   "name": "python",
   "nbconvert_exporter": "python",
   "pygments_lexer": "ipython3",
   "version": "3.9.6"
  }
 },
 "nbformat": 4,
 "nbformat_minor": 2
}
