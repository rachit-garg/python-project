{
 "cells": [
  {
   "cell_type": "markdown",
   "metadata": {},
   "source": [
    "#### Riddeles on Averages\n",
    "\n",
    "* Statistics is a tool for `quantifying information`. It helps us better understand `randomness and uncertainty` in the world.\n",
    "\n",
    "\n",
    "* It starts with an `exact and well-defined` rule. We use this rule to predict what will happen in the future. We don't know the results, but `probability allows us to quantify what should happen`.\n",
    "\n",
    "* `In statistics, we solve backward`. It starts with the end results known as data. `We take this data and try to determine what well-defined rules created it.`\n",
    "\n",
    "* Any statistical prediction should have `some margin of error`. That's because we are using data to estimate some unknown value.\n"
   ]
  },
  {
   "cell_type": "markdown",
   "metadata": {},
   "source": [
    "`Median` is the value that divide the dataset into two parts, that means \n",
    "\n",
    "[50% values] < median  < [50% values]\n",
    "\n",
    "It is used for `Skewed distributions`."
   ]
  },
  {
   "cell_type": "markdown",
   "metadata": {},
   "source": [
    "`Mode` is the value that appears often in the dataset. A list cabn have more than one mode.\n",
    "\n",
    "* Bimodal: If dataset is having two values which occur most is called bimodal.\n",
    "* Multi-modal: If it has more than two mode values."
   ]
  },
  {
   "cell_type": "markdown",
   "metadata": {},
   "source": [
    "`Mean` is affected by the presence of large values or outliers in the dataset and is mostly used for `Normal or Gaussian Distributions.`"
   ]
  },
  {
   "cell_type": "markdown",
   "metadata": {},
   "source": [
    "#### Measures of variability or the Spread\n",
    "\n",
    "Shows the `dispersion in te dataset` and how the data is `distributed around the center` (Measure of Location) of the dataset.\n",
    "\n"
   ]
  },
  {
   "cell_type": "markdown",
   "metadata": {},
   "source": [
    "Quartiles are mumbers that divide data values in quarters.\n",
    "\n",
    "* Q1: Lower quartile\n",
    "* Q2: Middle quartile\n",
    "* Q3: the upper quartile\n",
    "* Q3 - Q1 (Inter Quartile Range)"
   ]
  },
  {
   "cell_type": "markdown",
   "metadata": {},
   "source": []
  }
 ],
 "metadata": {
  "language_info": {
   "name": "python"
  },
  "orig_nbformat": 4
 },
 "nbformat": 4,
 "nbformat_minor": 2
}
